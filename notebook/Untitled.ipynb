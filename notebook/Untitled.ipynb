{
 "cells": [
  {
   "cell_type": "code",
   "execution_count": 4,
   "id": "7b39934a-41ff-4d5c-aaba-91682a6ee7f8",
   "metadata": {},
   "outputs": [
    {
     "name": "stdout",
     "output_type": "stream",
     "text": [
      "[{'entity': 'B-LOC', 'score': 0.9971656, 'index': 21, 'word': '▁', 'start': 96, 'end': 97}, {'entity': 'I-LOC', 'score': 0.9998727, 'index': 22, 'word': 'Драгалевци', 'start': 97, 'end': 107}, {'entity': 'B-ORG', 'score': 0.9998454, 'index': 33, 'word': '▁ЛИ', 'start': 142, 'end': 145}, {'entity': 'I-ORG', 'score': 0.9998381, 'index': 34, 'word': 'ДЛ', 'start': 145, 'end': 147}, {'entity': 'B-LOC', 'score': 0.99998856, 'index': 67, 'word': '▁София', 'start': 273, 'end': 279}, {'entity': 'B-LOC', 'score': 0.99997294, 'index': 69, 'word': '▁Витоша', 'start': 281, 'end': 288}]\n"
     ]
    }
   ],
   "source": [
    "from transformers import pipeline\n",
    "\n",
    "model = pipeline(\n",
    "    'ner',\n",
    "    model='rmihaylov/bert-base-ner-theseus-bg',\n",
    "    tokenizer='rmihaylov/bert-base-ner-theseus-bg',\n",
    "    device=-1,\n",
    "    revision=None)\n",
    "input = \"Еднопространствено помещение тип ателие, намиращо се в най-хубавата и лесно достъпна част на кв. Драгалевци - комплекс 'Водолей-1' до магазини ЛИДЛ и Фантастико. Място с много зеленина и собствен басейн. Ателието е с много светлина и има две тераси по 14 кв.м. с изглед към София и Витоша. Подготвено е за ремонт с възможност да развихрите своето въображение. Към него има паркомясто на стойност 20 000 евро. Разполагаме с ключ! Телефони за контакт: 0888 636 098; 0988 39 39 88\"\n",
    "output = model(input)\n",
    "print(output)"
   ]
  },
  {
   "cell_type": "code",
   "execution_count": 5,
   "id": "d49ed524-43d7-4886-8adc-0b74c372f6b8",
   "metadata": {},
   "outputs": [
    {
     "ename": "NameError",
     "evalue": "name 'jplu' is not defined",
     "output_type": "error",
     "traceback": [
      "\u001b[0;31m---------------------------------------------------------------------------\u001b[0m",
      "\u001b[0;31mNameError\u001b[0m                                 Traceback (most recent call last)",
      "Cell \u001b[0;32mIn[5], line 1\u001b[0m\n\u001b[0;32m----> 1\u001b[0m \u001b[43mjplu\u001b[49m\u001b[38;5;241m/\u001b[39mtf\u001b[38;5;241m-\u001b[39mxlm\u001b[38;5;241m-\u001b[39mr\u001b[38;5;241m-\u001b[39mner\u001b[38;5;241m-\u001b[39m\u001b[38;5;241m40\u001b[39m\u001b[38;5;241m-\u001b[39mlang\n",
      "\u001b[0;31mNameError\u001b[0m: name 'jplu' is not defined"
     ]
    }
   ],
   "source": []
  },
  {
   "cell_type": "code",
   "execution_count": null,
   "id": "8786799e-3a59-4866-936e-34f8358b6adc",
   "metadata": {},
   "outputs": [
    {
     "name": "stderr",
     "output_type": "stream",
     "text": [
      "Downloading (…)lve/main/config.json: 100%|██████████| 852/852 [00:00<00:00, 611kB/s]\n",
      "Downloading (…)tencepiece.bpe.model: 100%|██████████| 5.07M/5.07M [00:01<00:00, 3.71MB/s]\n",
      "Downloading (…)/main/tokenizer.json: 100%|██████████| 9.10M/9.10M [00:02<00:00, 4.35MB/s]\n",
      "Downloading pytorch_model.bin:  43%|████▎     | 965M/2.24G [05:22<09:09, 2.32MB/s] "
     ]
    }
   ],
   "source": [
    "from transformers import AutoTokenizer, AutoModelForTokenClassification\n",
    "\n",
    "tokenizer = AutoTokenizer.from_pretrained(\"xlm-roberta-large-finetuned-conll03-english\")\n",
    "model = AutoModelForTokenClassification.from_pretrained(\"xlm-roberta-large-finetuned-conll03-english\")\n",
    "classifier = pipeline(\"ner\", model=model, tokenizer=tokenizer)\n",
    "classifier(\"Alya told Jasmine that Andrew could pay with cash..\")\n"
   ]
  },
  {
   "cell_type": "code",
   "execution_count": null,
   "id": "dde6b2ca-12f0-4030-b08b-7ca52f5a828b",
   "metadata": {},
   "outputs": [],
   "source": []
  }
 ],
 "metadata": {
  "kernelspec": {
   "display_name": "Python 3 (ipykernel)",
   "language": "python",
   "name": "python3"
  },
  "language_info": {
   "codemirror_mode": {
    "name": "ipython",
    "version": 3
   },
   "file_extension": ".py",
   "mimetype": "text/x-python",
   "name": "python",
   "nbconvert_exporter": "python",
   "pygments_lexer": "ipython3",
   "version": "3.10.6"
  }
 },
 "nbformat": 4,
 "nbformat_minor": 5
}
